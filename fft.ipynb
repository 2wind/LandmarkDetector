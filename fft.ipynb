{
 "metadata": {
  "language_info": {
   "codemirror_mode": {
    "name": "ipython",
    "version": 3
   },
   "file_extension": ".py",
   "mimetype": "text/x-python",
   "name": "python",
   "nbconvert_exporter": "python",
   "pygments_lexer": "ipython3",
   "version": 3
  },
  "orig_nbformat": 2
 },
 "nbformat": 4,
 "nbformat_minor": 2,
 "cells": [
  {
   "cell_type": "code",
   "execution_count": null,
   "metadata": {},
   "outputs": [],
   "source": [
    "def fourier(image):\n",
    "    gray = cv2.cvtColor(image, cv2.COLOR_BGR2GRAY)\n",
    "    height, width = gray.shape\n",
    "\n",
    "    dft = cv2.dft(np.float32(gray), flags=cv2.DFT_COMPLEX_OUTPUT)\n",
    "    dft_shift = np.fft.fftshift(dft)\n",
    "    out = 20*np.log(cv2.magnitude(dft_shift[:, :, 0], dft_shift[:, :, 1]))\n",
    "    return out\n",
    "\n",
    "film_landmarks = extract_landmarks(load_tsv(film_path), '29@[2479]|30@[34]', 6)\n",
    "film_image = cv2.imread(film_img_path)\n",
    "photo_image = cv2.imread(image_path)\n",
    "\n",
    "out1 = fourier(film_image)\n",
    "out2 = fourier(photo_image)\n",
    "\n",
    "plt.figure()\n",
    "plt.subplot(211)\n",
    "plt.imshow(out1, cmap='gray')\n",
    "plt.subplot(212)\n",
    "plt.imshow(out2, cmap='gray')\n",
    "plt.show()\n",
    "\n",
    "\n",
    "orb1 = cv2.ORB_create()\n",
    "# 키 포인트 검출과 서술자 계산\n",
    "keypoints1, descriptor1 = orb1.detectAndCompute(out1, None)\n",
    "\n",
    "\n",
    "orb2 = cv2.ORB_create()\n",
    "# 키 포인트 검출과 서술자 계산\n",
    "keypoints2, descriptor2 = orb1.detectAndCompute(out2, None)\n",
    "\n",
    "\n",
    "# 인덱스 파라미터 설정 ---①\n",
    "FLANN_INDEX_LSH = 6\n",
    "index_params= dict(algorithm = FLANN_INDEX_LSH,\n",
    "                   table_number = 6,\n",
    "                   key_size = 12,\n",
    "                   multi_probe_level = 1)\n",
    "# 검색 파라미터 설정 ---②\n",
    "search_params=dict(checks=32)\n",
    "# Flann 매처 생성 ---③\n",
    "matcher = cv2.FlannBasedMatcher(index_params, search_params)\n",
    "# 매칭 계산 ---④\n",
    "matches = matcher.match(descriptor1, descriptor2)\n",
    "# 매칭 그리기\n",
    "res = cv2.drawMatches(img1, keypoints1, img2, keypoints2, matches, None, \\\n",
    "            flags=cv2.DRAW_MATCHES_FLAGS_NOT_DRAW_SINGLE_POINTS)"
   ]
  }
 ]
}