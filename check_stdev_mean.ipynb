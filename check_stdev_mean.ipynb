{
 "metadata": {
  "language_info": {
   "codemirror_mode": {
    "name": "ipython",
    "version": 3
   },
   "file_extension": ".py",
   "mimetype": "text/x-python",
   "name": "python",
   "nbconvert_exporter": "python",
   "pygments_lexer": "ipython3",
   "version": "3.8.8"
  },
  "orig_nbformat": 2,
  "kernelspec": {
   "name": "python388jvsc74a57bd0781a2a4cf53b5641473fad8676e8c0a38872e1ed5a7fb83d02846a3135ad21c8",
   "display_name": "Python 3.8.8 64-bit ('outline': conda)"
  },
  "metadata": {
   "interpreter": {
    "hash": "781a2a4cf53b5641473fad8676e8c0a38872e1ed5a7fb83d02846a3135ad21c8"
   }
  }
 },
 "nbformat": 4,
 "nbformat_minor": 2,
 "cells": [
  {
   "source": [
    "# Calculate stdev and mean of dataset...\n"
   ],
   "cell_type": "markdown",
   "metadata": {}
  },
  {
   "cell_type": "code",
   "execution_count": 3,
   "metadata": {},
   "outputs": [
    {
     "output_type": "stream",
     "name": "stdout",
     "text": [
      "#0 class\n",
      "elapsed time: 42.128782\n",
      "mean:[0.6945434237906665]\n",
      "std:[0.3349718664046976]\n",
      "[0.3349718664046976]\n"
     ]
    }
   ],
   "source": [
    "\n",
    "\"\"\"\n",
    "in this script, we calculate the image per channel mean and standard\n",
    "deviation in the training set, do not calculate the statistics on the\n",
    "whole dataset, as per here http://cs231n.github.io/neural-networks-2/#datapre\n",
    "\"\"\"\n",
    "\n",
    "import numpy as np\n",
    "from os import listdir\n",
    "from os.path import join, isdir\n",
    "from glob import glob\n",
    "import cv2\n",
    "import timeit\n",
    "\n",
    "# number of channels of the dataset image, 3 for color jpg, 1 for grayscale img\n",
    "# you need to change it to reflect your dataset\n",
    "CHANNEL_NUM = 1\n",
    "\n",
    "\n",
    "def cal_dir_stat(root):\n",
    "    cls_dirs = [d for d in listdir(root) if isdir(join(root, d))]\n",
    "    pixel_num = 0 # store all pixel number in the dataset\n",
    "    channel_sum = np.zeros(CHANNEL_NUM)\n",
    "    channel_sum_squared = np.zeros(CHANNEL_NUM)\n",
    "\n",
    "    for idx, d in enumerate(cls_dirs):\n",
    "        print(\"#{} class\".format(idx))\n",
    "        im_pths = glob(join(root, d, \"*.jpg\"))\n",
    "\n",
    "        for path in im_pths:\n",
    "            im = cv2.imread(path, flags=cv2.IMREAD_GRAYSCALE) # image in M*N*CHANNEL_NUM shape, channel in BGR order\n",
    "            im = im/255.0\n",
    "            pixel_num += (im.size/CHANNEL_NUM)\n",
    "            channel_sum += np.sum(im, axis=(0, 1))\n",
    "            channel_sum_squared += np.sum(np.square(im), axis=(0, 1))\n",
    "\n",
    "    bgr_mean = channel_sum / pixel_num\n",
    "    bgr_std = np.sqrt(channel_sum_squared / pixel_num - np.square(bgr_mean))\n",
    "    \n",
    "    # change the format from bgr to rgb\n",
    "    rgb_mean = list(bgr_mean)[::-1]\n",
    "    rgb_std = list(bgr_std)[::-1]\n",
    "    \n",
    "    return rgb_mean, rgb_std\n",
    "\n",
    "# The script assumes that under train_root, there are separate directories for each class\n",
    "# of training images.\n",
    "train_root = \"./test/\"\n",
    "start = timeit.default_timer()\n",
    "mean, std = cal_dir_stat(train_root)\n",
    "end = timeit.default_timer()\n",
    "print(\"elapsed time: {}\".format(end-start))\n",
    "print(\"mean:{}\\nstd:{}\".format(mean, std))\n",
    "print(std)"
   ]
  },
  {
   "cell_type": "code",
   "execution_count": null,
   "metadata": {},
   "outputs": [],
   "source": []
  }
 ]
}